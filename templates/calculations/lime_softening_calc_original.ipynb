{
 "cells": [
  {
   "cell_type": "markdown",
   "metadata": {},
   "source": [
    "# ENGINEERING CALCULATION SHEET\n",
    "\n",
    "**Project:** {{project_name}}  \n",
    "**Project No:** {{project_number}}  \n",
    "**Subject:** Lime Softening Design Calculation  \n",
    "**Calc ID:** {{calc_id}}  \n",
    "**Revision:** {{revision}}  \n",
    "**Date:** {{date}}  \n",
    "\n",
    "| Prepared By | Checked By | Approved By |\n",
    "|------------|------------|-------------|\n",
    "| {{preparer}} | {{checker}} | {{approver}} |\n",
    "| {{prep_date}} | {{check_date}} | {{approve_date}} |"
   ]
  },
  {
   "cell_type": "code",
   "execution_count": null,
   "metadata": {
    "tags": [
     "parameters"
    ]
   },
   "outputs": [],
   "source": [
    "# Papermill parameters\n",
    "project_name = \"Example Water Treatment Plant\"\n",
    "project_number = \"2024-001\"\n",
    "calc_id = \"CALC-LS-001\"\n",
    "revision = \"0\"\n",
    "date = \"2024-01-15\"\n",
    "preparer = \"AI Assistant\"\n",
    "checker = \"Senior Engineer\"\n",
    "approver = \"Project Manager\"\n",
    "prep_date = \"2024-01-15\"\n",
    "check_date = \"-\"\n",
    "approve_date = \"-\"\n",
    "\n",
    "# Calculation data\n",
    "calculation_data = {}"
   ]
  },
  {
   "cell_type": "markdown",
   "metadata": {},
   "source": [
    "## 1. OBJECTIVE\n",
    "\n",
    "To determine the optimal lime (Ca(OH)₂) dosage for softening the raw water to achieve:\n",
    "- Total hardness < 50 mg/L as CaCO₃\n",
    "- Compliance with drinking water standards\n",
    "- Minimal chemical usage and sludge production"
   ]
  },
  {
   "cell_type": "markdown",
   "metadata": {},
   "source": [
    "## 2. DESIGN CRITERIA\n",
    "\n",
    "- **Flow Rate:** {{flow_rate}} m³/h\n",
    "- **Target Hardness:** < 50 mg/L as CaCO₃\n",
    "- **Operating pH:** 10.0 - 10.5\n",
    "- **Contact Time:** 30 minutes minimum\n",
    "- **Temperature:** {{temperature}}°C"
   ]
  },
  {
   "cell_type": "markdown",
   "metadata": {},
   "source": [
    "## 3. REFERENCES\n",
    "\n",
    "1. AWWA/ASCE Water Treatment Plant Design, 5th Edition\n",
    "2. MWH Water Treatment: Principles and Design, 3rd Edition  \n",
    "3. PHREEQC Version 3.8.6 - USGS\n",
    "4. Standard Methods for Examination of Water and Wastewater, 23rd Edition"
   ]
  },
  {
   "cell_type": "markdown",
   "metadata": {},
   "source": [
    "## 4. INPUT WATER QUALITY"
   ]
  },
  {
   "cell_type": "code",
   "execution_count": null,
   "metadata": {},
   "outputs": [],
   "source": [
    "import pandas as pd\n",
    "import numpy as np\n",
    "import matplotlib.pyplot as plt\n",
    "import json\n",
    "from IPython.display import display, HTML, Markdown\n",
    "\n",
    "# Extract input water quality\n",
    "input_water = calculation_data.get('inputs', {})\n",
    "analysis = input_water.get('analysis', {})\n",
    "\n",
    "# Create formatted table\n",
    "parameters = []\n",
    "for param, value in analysis.items():\n",
    "    # Convert to appropriate units\n",
    "    if param == 'Ca':\n",
    "        parameters.append({\n",
    "            'Parameter': 'Calcium',\n",
    "            'Value': f\"{value:.2f}\",\n",
    "            'Unit': 'mmol/L',\n",
    "            'As mg/L': f\"{value * 40.08:.1f}\"\n",
    "        })\n",
    "    elif param == 'Mg':\n",
    "        parameters.append({\n",
    "            'Parameter': 'Magnesium',\n",
    "            'Value': f\"{value:.2f}\",\n",
    "            'Unit': 'mmol/L',\n",
    "            'As mg/L': f\"{value * 24.31:.1f}\"\n",
    "        })\n",
    "    elif param == 'Alkalinity' or param == 'C(4)':\n",
    "        parameters.append({\n",
    "            'Parameter': 'Alkalinity',\n",
    "            'Value': f\"{value:.2f}\",\n",
    "            'Unit': 'mmol/L',\n",
    "            'As mg/L CaCO₃': f\"{value * 50.04:.1f}\"\n",
    "        })\n",
    "    elif param == 'pH':\n",
    "        parameters.append({\n",
    "            'Parameter': 'pH',\n",
    "            'Value': f\"{value:.2f}\",\n",
    "            'Unit': '-',\n",
    "            'As mg/L': '-'\n",
    "        })\n",
    "\n",
    "input_df = pd.DataFrame(parameters)\n",
    "display(HTML(\"<b>Table 1: Raw Water Quality Analysis</b>\"))\n",
    "display(input_df.style.hide(axis='index').set_table_styles([\n",
    "    {'selector': 'th', 'props': [('background-color', '#f0f0f0'), ('font-weight', 'bold')]},\n",
    "    {'selector': 'td', 'props': [('text-align', 'left'), ('padding', '8px')]}\n",
    "]))"
   ]
  },
  {
   "cell_type": "markdown",
   "metadata": {},
   "source": [
    "## 5. METHODOLOGY\n",
    "\n",
    "### 5.1 Lime Softening Chemistry\n",
    "\n",
    "The fundamental reactions for lime softening are:\n",
    "\n",
    "**Carbonate Hardness Removal:**\n",
    "$$\\text{Ca}^{2+} + 2\\text{HCO}_3^- + \\text{Ca(OH)}_2 \\rightarrow 2\\text{CaCO}_3 \\downarrow + 2\\text{H}_2\\text{O}$$\n",
    "\n",
    "**Magnesium Removal:**\n",
    "$$\\text{Mg}^{2+} + \\text{Ca(OH)}_2 \\rightarrow \\text{Mg(OH)}_2 \\downarrow + \\text{Ca}^{2+}$$\n",
    "\n",
    "**Non-Carbonate Hardness (if soda ash added):**\n",
    "$$\\text{Ca}^{2+} + \\text{Na}_2\\text{CO}_3 \\rightarrow \\text{CaCO}_3 \\downarrow + 2\\text{Na}^+$$\n",
    "\n",
    "### 5.2 Design Approach\n",
    "\n",
    "1. Calculate carbonate and non-carbonate hardness\n",
    "2. Determine theoretical lime requirement\n",
    "3. Apply practical excess factor (10-20%)\n",
    "4. Model using PHREEQC for equilibrium\n",
    "5. Verify residual hardness meets target\n",
    "6. Calculate sludge production"
   ]
  },
  {
   "cell_type": "markdown",
   "metadata": {},
   "source": [
    "## 6. CALCULATIONS\n",
    "\n",
    "### 6.1 Hardness Classification"
   ]
  },
  {
   "cell_type": "code",
   "execution_count": null,
   "metadata": {},
   "outputs": [],
   "source": [
    "# Extract values\n",
    "ca_mmol = analysis.get('Ca', 0)\n",
    "mg_mmol = analysis.get('Mg', 0)\n",
    "alk_mmol = analysis.get('Alkalinity', analysis.get('C(4)', 0))\n",
    "\n",
    "# Calculate hardness in mg/L as CaCO3\n",
    "ca_hardness = ca_mmol * 50.04  # Ca as CaCO3\n",
    "mg_hardness = mg_mmol * 50.04 * (24.31/20.04)  # Mg as CaCO3\n",
    "total_hardness = ca_hardness + mg_hardness\n",
    "alkalinity_caco3 = alk_mmol * 50.04\n",
    "\n",
    "# Determine carbonate and non-carbonate hardness\n",
    "if total_hardness <= alkalinity_caco3:\n",
    "    carbonate_hardness = total_hardness\n",
    "    non_carbonate_hardness = 0\n",
    "else:\n",
    "    carbonate_hardness = alkalinity_caco3\n",
    "    non_carbonate_hardness = total_hardness - alkalinity_caco3\n",
    "\n",
    "print(\"=== Hardness Analysis ===\")\n",
    "print(f\"Calcium Hardness:        {ca_hardness:.1f} mg/L as CaCO₃\")\n",
    "print(f\"Magnesium Hardness:      {mg_hardness:.1f} mg/L as CaCO₃\")\n",
    "print(f\"Total Hardness:          {total_hardness:.1f} mg/L as CaCO₃\")\n",
    "print(f\"Alkalinity:              {alkalinity_caco3:.1f} mg/L as CaCO₃\")\n",
    "print(f\"\\nCarbonate Hardness:      {carbonate_hardness:.1f} mg/L as CaCO₃\")\n",
    "print(f\"Non-Carbonate Hardness:  {non_carbonate_hardness:.1f} mg/L as CaCO₃\")"
   ]
  },
  {
   "cell_type": "markdown",
   "metadata": {},
   "source": [
    "### 6.2 Theoretical Lime Requirement"
   ]
  },
  {
   "cell_type": "code",
   "execution_count": null,
   "metadata": {},
   "outputs": [],
   "source": [
    "# Theoretical lime calculations\n",
    "print(\"=== Theoretical Lime Requirement ===\")\n",
    "\n",
    "# Lime for carbonate hardness\n",
    "lime_carb = alk_mmol  # 1:1 with alkalinity\n",
    "print(f\"For carbonate hardness:   {lime_carb:.2f} mmol/L\")\n",
    "\n",
    "# Lime for magnesium\n",
    "lime_mg = mg_mmol  # 1:1 with Mg\n",
    "print(f\"For magnesium removal:    {lime_mg:.2f} mmol/L\")\n",
    "\n",
    "# Lime for raising pH to 10.3\n",
    "lime_pH = 0.5  # Empirical for pH adjustment\n",
    "print(f\"For pH adjustment:        {lime_pH:.2f} mmol/L\")\n",
    "\n",
    "# Total theoretical\n",
    "lime_theoretical = lime_carb + lime_mg + lime_pH\n",
    "print(f\"\\nTotal theoretical:        {lime_theoretical:.2f} mmol/L\")\n",
    "\n",
    "# Apply excess factor\n",
    "excess_factor = 1.15  # 15% excess\n",
    "lime_practical = lime_theoretical * excess_factor\n",
    "print(f\"With {(excess_factor-1)*100:.0f}% excess:           {lime_practical:.2f} mmol/L\")\n",
    "print(f\"                          {lime_practical * 74.09:.1f} mg/L Ca(OH)₂\")"
   ]
  },
  {
   "cell_type": "markdown",
   "metadata": {},
   "source": [
    "### 6.3 PHREEQC Equilibrium Modeling"
   ]
  },
  {
   "cell_type": "code",
   "execution_count": null,
   "metadata": {},
   "outputs": [],
   "source": [
    "# Display PHREEQC simulation results\n",
    "treatment_results = calculation_data.get('treatment_results', {})\n",
    "solution_summary = treatment_results.get('solution_summary', {})\n",
    "\n",
    "print(\"=== PHREEQC Simulation Results ===\")\n",
    "print(f\"Lime dose applied:        {treatment_results.get('reagent_added_mmol', 0):.2f} mmol/L\")\n",
    "print(f\"Final pH:                 {solution_summary.get('pH', 0):.2f}\")\n",
    "print(f\"Final ionic strength:     {solution_summary.get('ionic_strength', 0):.4f} mol/L\")\n",
    "\n",
    "# Precipitated phases\n",
    "precipitates = treatment_results.get('precipitated_phases', {})\n",
    "if precipitates:\n",
    "    print(\"\\nPrecipitated Minerals:\")\n",
    "    total_precip = 0\n",
    "    for mineral, amount in precipitates.items():\n",
    "        mass_g_L = amount * {'Calcite': 100.09, 'Brucite': 58.32}.get(mineral, 100)\n",
    "        print(f\"  {mineral:15s} {amount:8.4f} mol/L   {mass_g_L:6.2f} g/L\")\n",
    "        total_precip += mass_g_L\n",
    "    print(f\"\\nTotal precipitate:        {total_precip:.2f} g/L\")"
   ]
  },
  {
   "cell_type": "markdown",
   "metadata": {},
   "source": [
    "### 6.4 Final Water Quality"
   ]
  },
  {
   "cell_type": "code",
   "metadata": {},
   "outputs": [],
   "source": "# Extract final water quality\nfinal_analysis = solution_summary.get('analysis', {})\n\n# Calculate final hardness\nfinal_ca = final_analysis.get('Ca', 0) * 50.04\nfinal_mg = final_analysis.get('Mg', 0) * 50.04 * (24.31/20.04)\nfinal_hardness = final_ca + final_mg\n\n# Create comparison table\ncomparison_data = [\n    {'Parameter': 'pH', 'Initial': input_water.get('pH', 0), 'Final': solution_summary.get('pH', 0), 'Target': '10.0-10.5', 'Unit': '-'},\n    {'Parameter': 'Total Hardness', 'Initial': f\"{total_hardness:.0f}\", 'Final': f\"{final_hardness:.0f}\", 'Target': '<50', 'Unit': 'mg/L CaCO₃'},\n    {'Parameter': 'Calcium', 'Initial': f\"{ca_mmol*40.08:.0f}\", 'Final': f\"{final_analysis.get('Ca', 0)*40.08:.0f}\", 'Target': '-', 'Unit': 'mg/L'},\n    {'Parameter': 'Magnesium', 'Initial': f\"{mg_mmol*24.31:.0f}\", 'Final': f\"{final_analysis.get('Mg', 0)*24.31:.0f}\", 'Target': '-', 'Unit': 'mg/L'},\n]\n\ncomp_df = pd.DataFrame(comparison_data)\ndisplay(HTML(\"<b>Table 2: Water Quality Comparison</b>\"))\ndisplay(comp_df.style.hide(axis='index').set_table_styles([\n    {'selector': 'th', 'props': [('background-color', '#f0f0f0'), ('font-weight', 'bold')]},\n    {'selector': 'td', 'props': [('text-align', 'center'), ('padding', '8px')]}\n]))\n\n# Calculate removal efficiency\nif total_hardness > 0:\n    hardness_removal = (total_hardness - final_hardness) / total_hardness * 100\n    print(f\"\\nHardness Removal Efficiency: {hardness_removal:.1f}%\")\nelse:\n    print(\"\\nHardness Removal Efficiency: N/A (no initial hardness)\")"
  },
  {
   "cell_type": "markdown",
   "metadata": {},
   "source": [
    "## 7. DESIGN SUMMARY"
   ]
  },
  {
   "cell_type": "code",
   "execution_count": null,
   "metadata": {},
   "outputs": [],
   "source": [
    "# Design calculations\n",
    "flow_rate = calculation_data.get('design_params', {}).get('flow_rate', 100)  # m³/h\n",
    "lime_dose_kg_h = lime_practical * 74.09 * flow_rate / 1000\n",
    "sludge_production = treatment_results.get('total_precipitate_g_L', 0) * flow_rate / 1000\n",
    "\n",
    "design_box = f\"\"\"\n",
    "<div style=\"border: 2px solid black; padding: 15px; margin: 20px 0; background-color: #f5f5f5;\">\n",
    "<h3 style=\"margin-top: 0;\">DESIGN PARAMETERS</h3>\n",
    "<table style=\"width: 100%; border-collapse: collapse;\">\n",
    "<tr><td style=\"padding: 5px;\"><b>Design Flow Rate:</b></td><td style=\"text-align: right;\">{flow_rate} m³/h</td></tr>\n",
    "<tr><td style=\"padding: 5px;\"><b>Lime Dose:</b></td><td style=\"text-align: right;\">{lime_practical * 74.09:.0f} mg/L</td></tr>\n",
    "<tr><td style=\"padding: 5px;\"><b>Lime Consumption:</b></td><td style=\"text-align: right;\">{lime_dose_kg_h:.1f} kg/h</td></tr>\n",
    "<tr><td style=\"padding: 5px;\"><b>Daily Lime Usage:</b></td><td style=\"text-align: right;\">{lime_dose_kg_h * 24:.0f} kg/day</td></tr>\n",
    "<tr><td style=\"padding: 5px;\"><b>Sludge Production:</b></td><td style=\"text-align: right;\">{sludge_production:.1f} kg/h (dry basis)</td></tr>\n",
    "<tr><td style=\"padding: 5px;\"><b>Contact Time Required:</b></td><td style=\"text-align: right;\">30 minutes</td></tr>\n",
    "<tr><td style=\"padding: 5px;\"><b>Reactor Volume:</b></td><td style=\"text-align: right;\">{flow_rate * 0.5:.0f} m³</td></tr>\n",
    "</table>\n",
    "</div>\n",
    "\"\"\"\n",
    "display(HTML(design_box))"
   ]
  },
  {
   "cell_type": "markdown",
   "metadata": {},
   "source": [
    "## 8. CONCLUSIONS\n",
    "\n",
    "1. The recommended lime dose of **{{lime_dose}} mg/L Ca(OH)₂** achieves the target hardness reduction\n",
    "2. Final hardness of **{{final_hardness}} mg/L as CaCO₃** meets the design criteria of <50 mg/L\n",
    "3. Hardness removal efficiency of **{{removal_efficiency}}%** is achieved\n",
    "4. Estimated sludge production is **{{sludge_rate}} kg/h** (dry basis)\n",
    "\n",
    "## 9. RECOMMENDATIONS\n",
    "\n",
    "1. **Chemical Feed System:**\n",
    "   - Install lime slurry system with capacity for {{lime_capacity}} kg/h\n",
    "   - Provide 20% excess capacity for peak flows\n",
    "   - Include automatic pH control for optimization\n",
    "\n",
    "2. **Reactor Design:**\n",
    "   - Minimum contact time: 30 minutes\n",
    "   - Provide mechanical mixing at 50-75 W/m³\n",
    "   - Include provisions for sludge recirculation\n",
    "\n",
    "3. **Sludge Handling:**\n",
    "   - Design for {{sludge_daily}} kg/day dry solids\n",
    "   - Provide thickening to 3-5% solids\n",
    "   - Consider lime sludge recovery if economical\n",
    "\n",
    "4. **Process Control:**\n",
    "   - Monitor influent and effluent hardness\n",
    "   - Maintain pH between 10.0-10.5\n",
    "   - Optimize lime dose based on actual removal"
   ]
  },
  {
   "cell_type": "markdown",
   "metadata": {},
   "source": [
    "## APPENDIX A: SATURATION INDICES"
   ]
  },
  {
   "cell_type": "code",
   "execution_count": null,
   "metadata": {},
   "outputs": [],
   "source": [
    "# Display saturation indices\n",
    "initial_si = calculation_data.get('speciation_results', {}).get('saturation_indices', {})\n",
    "final_si = treatment_results.get('saturation_indices', {})\n",
    "\n",
    "si_data = []\n",
    "for mineral in ['Calcite', 'Aragonite', 'Brucite', 'Gypsum']:\n",
    "    si_data.append({\n",
    "        'Mineral': mineral,\n",
    "        'Initial SI': f\"{initial_si.get(mineral, -999):.2f}\",\n",
    "        'Final SI': f\"{final_si.get(mineral, -999):.2f}\",\n",
    "        'Status': 'Precipitating' if final_si.get(mineral, -999) > 0 else 'Undersaturated'\n",
    "    })\n",
    "\n",
    "si_df = pd.DataFrame(si_data)\n",
    "display(HTML(\"<b>Table A1: Mineral Saturation Indices</b>\"))\n",
    "display(si_df.style.hide(axis='index'))"
   ]
  },
  {
   "cell_type": "markdown",
   "metadata": {},
   "source": [
    "## APPENDIX B: PHREEQC INPUT FILE"
   ]
  },
  {
   "cell_type": "code",
   "execution_count": null,
   "metadata": {},
   "outputs": [],
   "source": [
    "# Display PHREEQC input if available\n",
    "phreeqc_input = calculation_data.get('phreeqc_input', '')\n",
    "if phreeqc_input:\n",
    "    print(\"PHREEQC Input File:\")\n",
    "    print(\"=\" * 60)\n",
    "    print(phreeqc_input)\n",
    "else:\n",
    "    print(\"PHREEQC input file not available in calculation data.\")"
   ]
  },
  {
   "cell_type": "markdown",
   "metadata": {},
   "source": [
    "---\n",
    "*End of Calculation Sheet*"
   ]
  }
 ],
 "metadata": {
  "kernelspec": {
   "display_name": "Python 3",
   "language": "python",
   "name": "python3"
  },
  "language_info": {
   "codemirror_mode": {
    "name": "ipython",
    "version": 3
   },
   "file_extension": ".py",
   "mimetype": "text/x-python",
   "name": "python",
   "nbconvert_exporter": "python",
   "pygments_lexer": "ipython3",
   "version": "3.8.0"
  }
 },
 "nbformat": 4,
 "nbformat_minor": 4
}