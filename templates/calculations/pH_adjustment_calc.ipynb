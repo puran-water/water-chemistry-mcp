{
 "cells": [
  {
   "cell_type": "markdown",
   "metadata": {},
   "source": [
    "# ENGINEERING CALCULATION SHEET\n",
    "\n",
    "**Project:** {{project_name}}  \n",
    "**Project No:** {{project_number}}  \n",
    "**Subject:** pH Adjustment Design Calculation  \n",
    "**Calc ID:** {{calc_id}}  \n",
    "**Revision:** {{revision}}  \n",
    "**Date:** {{date}}  \n",
    "\n",
    "| Prepared By | Checked By | Approved By |\n",
    "|------------|------------|-------------|\n",
    "| {{preparer}} | {{checker}} | {{approver}} |\n",
    "| {{prep_date}} | {{check_date}} | {{approve_date}} |"
   ]
  },
  {
   "cell_type": "code",
   "execution_count": null,
   "metadata": {
    "tags": ["parameters"]
   },
   "outputs": [],
   "source": [
    "# Papermill parameters\n",
    "project_name = \"Example Water Treatment Plant\"\n",
    "project_number = \"2024-001\"\n",
    "calc_id = \"CALC-pH-001\"\n",
    "revision = \"0\"\n",
    "date = \"2024-01-15\"\n",
    "preparer = \"AI Assistant\"\n",
    "checker = \"Senior Engineer\"\n",
    "approver = \"Project Manager\"\n",
    "prep_date = \"2024-01-15\"\n",
    "check_date = \"-\"\n",
    "approve_date = \"-\"\n",
    "\n",
    "# Calculation data\n",
    "calculation_data = {}"
   ]
  },
  {
   "cell_type": "markdown",
   "metadata": {},
   "source": [
    "## 1. OBJECTIVE\n",
    "\n",
    "To determine the required chemical dosage for pH adjustment of the water stream to meet:\n",
    "- Target pH specifications\n",
    "- Process requirements\n",
    "- Regulatory compliance\n",
    "- Optimization of downstream processes"
   ]
  },
  {
   "cell_type": "markdown",
   "metadata": {},
   "source": [
    "## 2. DESIGN CRITERIA\n",
    "\n",
    "- **Flow Rate:** {{flow_rate}} m³/h\n",
    "- **Target pH:** {{target_pH}}\n",
    "- **pH Tolerance:** ±{{pH_tolerance}}\n",
    "- **Response Time:** < {{response_time}} minutes\n",
    "- **Temperature:** {{temperature}}°C"
   ]
  },
  {
   "cell_type": "markdown",
   "metadata": {},
   "source": [
    "## 3. REFERENCES\n",
    "\n",
    "1. Water Treatment Plant Design, AWWA/ASCE, 5th Edition\n",
    "2. pH Control in Water Treatment, WEF Manual of Practice\n",
    "3. PHREEQC Version 3.8.6 User Manual\n",
    "4. Standard Methods for Examination of Water and Wastewater, 23rd Edition"
   ]
  },
  {
   "cell_type": "markdown",
   "metadata": {},
   "source": [
    "## 4. METHODOLOGY\n",
    "\n",
    "### 4.1 pH Adjustment Chemistry\n",
    "\n",
    "**For pH Increase (Alkaline Addition):**\n",
    "- Sodium Hydroxide: $\\text{NaOH} \\rightarrow \\text{Na}^+ + \\text{OH}^-$\n",
    "- Lime: $\\text{Ca(OH)}_2 \\rightarrow \\text{Ca}^{2+} + 2\\text{OH}^-$\n",
    "- Soda Ash: $\\text{Na}_2\\text{CO}_3 + \\text{H}_2\\text{O} \\rightarrow 2\\text{Na}^+ + \\text{HCO}_3^- + \\text{OH}^-$\n",
    "\n",
    "**For pH Decrease (Acid Addition):**\n",
    "- Sulfuric Acid: $\\text{H}_2\\text{SO}_4 \\rightarrow 2\\text{H}^+ + \\text{SO}_4^{2-}$\n",
    "- Hydrochloric Acid: $\\text{HCl} \\rightarrow \\text{H}^+ + \\text{Cl}^-$\n",
    "- Carbon Dioxide: $\\text{CO}_2 + \\text{H}_2\\text{O} \\rightarrow \\text{H}_2\\text{CO}_3 \\rightarrow \\text{H}^+ + \\text{HCO}_3^-$\n",
    "\n",
    "### 4.2 Design Approach\n",
    "\n",
    "1. Analyze initial water chemistry\n",
    "2. Determine buffering capacity\n",
    "3. Calculate theoretical chemical requirement\n",
    "4. Apply safety factor for control stability\n",
    "5. Verify final water quality"
   ]
  },
  {
   "cell_type": "markdown",
   "metadata": {},
   "source": [
    "## 5. INPUT WATER QUALITY"
   ]
  },
  {
   "cell_type": "code",
   "execution_count": null,
   "metadata": {},
   "outputs": [],
   "source": [
    "import pandas as pd\n",
    "import numpy as np\n",
    "import matplotlib.pyplot as plt\n",
    "import json\n",
    "from IPython.display import display, HTML, Markdown\n",
    "\n",
    "# Extract water quality data\n",
    "input_water = calculation_data.get('inputs', {}).get('initial_solution', {})\n",
    "analysis = input_water.get('analysis', {})\n",
    "\n",
    "# Create water quality table\n",
    "water_params = []\n",
    "water_params.append({'Parameter': 'pH', 'Value': input_water.get('pH', '-'), 'Unit': '-'})\n",
    "water_params.append({'Parameter': 'Temperature', 'Value': input_water.get('temperature_celsius', 25), 'Unit': '°C'})\n",
    "\n",
    "# Add key constituents\n",
    "for param, value in analysis.items():\n",
    "    if param in ['Alkalinity', 'C(4)']:\n",
    "        water_params.append({\n",
    "            'Parameter': 'Alkalinity',\n",
    "            'Value': f\"{value:.2f}\",\n",
    "            'Unit': 'mmol/L'\n",
    "        })\n",
    "    elif param == 'TDS':\n",
    "        water_params.append({\n",
    "            'Parameter': 'TDS',\n",
    "            'Value': f\"{value:.0f}\",\n",
    "            'Unit': 'mg/L'\n",
    "        })\n",
    "\n",
    "water_df = pd.DataFrame(water_params)\n",
    "display(HTML(\"<b>Table 1: Initial Water Quality</b>\"))\n",
    "display(water_df.style.hide(axis='index'))"
   ]
  },
  {
   "cell_type": "markdown",
   "metadata": {},
   "source": [
    "## 6. BUFFERING CAPACITY ANALYSIS"
   ]
  },
  {
   "cell_type": "code",
   "execution_count": null,
   "metadata": {},
   "outputs": [],
   "source": [
    "# Extract speciation results\n",
    "speciation_results = calculation_data.get('speciation_results', {})\n",
    "solution_summary = speciation_results.get('solution_summary', {})\n",
    "\n",
    "# Buffering capacity analysis\n",
    "alkalinity = analysis.get('Alkalinity', analysis.get('C(4)', 0))\n",
    "ionic_strength = solution_summary.get('ionic_strength', 0)\n",
    "\n",
    "print(\"=== Buffering Capacity Analysis ===\")\n",
    "print(f\"Alkalinity:         {alkalinity:.2f} mmol/L\")\n",
    "print(f\"Ionic Strength:     {ionic_strength:.4f} mol/L\")\n",
    "\n",
    "# Categorize buffering\n",
    "if alkalinity < 0.5:\n",
    "    buffer_category = \"Very Low\"\n",
    "    control_difficulty = \"Difficult - Rapid pH swings possible\"\n",
    "elif alkalinity < 2.0:\n",
    "    buffer_category = \"Low\"\n",
    "    control_difficulty = \"Moderate - Careful control needed\"\n",
    "elif alkalinity < 5.0:\n",
    "    buffer_category = \"Moderate\"\n",
    "    control_difficulty = \"Good - Stable control expected\"\n",
    "else:\n",
    "    buffer_category = \"High\"\n",
    "    control_difficulty = \"Easy - Very stable, higher doses needed\"\n",
    "\n",
    "print(f\"\\nBuffer Category:    {buffer_category}\")\n",
    "print(f\"Control Assessment: {control_difficulty}\")"
   ]
  },
  {
   "cell_type": "markdown",
   "metadata": {},
   "source": [
    "## 7. CHEMICAL DOSAGE CALCULATION"
   ]
  },
  {
   "cell_type": "code",
   "execution_count": null,
   "metadata": {},
   "outputs": [],
   "source": [
    "# Extract dosing results\n",
    "dosing_results = calculation_data.get('dosing_results', {})\n",
    "target_condition = calculation_data.get('inputs', {}).get('target_condition', {})\n",
    "reagent = calculation_data.get('inputs', {}).get('reagent', {})\n",
    "\n",
    "print(\"=== Dosing Calculation Results ===\")\n",
    "print(f\"Target pH:          {target_condition.get('value', '-')}\")\n",
    "print(f\"Reagent:            {reagent.get('formula', '-')}\")\n",
    "print(f\"Required Dose:      {dosing_results.get('required_dose_mmol_L', 0):.3f} mmol/L\")\n",
    "print(f\"Convergence:        {dosing_results.get('convergence_status', '-')}\")\n",
    "print(f\"Iterations:         {dosing_results.get('iterations_used', '-')}\")\n",
    "\n",
    "# Convert to practical units\n",
    "dose_mmol = dosing_results.get('required_dose_mmol_L', 0)\n",
    "reagent_formula = reagent.get('formula', 'NaOH')\n",
    "\n",
    "# Molecular weights\n",
    "mw_dict = {\n",
    "    'NaOH': 40.0,\n",
    "    'Ca(OH)2': 74.09,\n",
    "    'Na2CO3': 105.99,\n",
    "    'H2SO4': 98.08,\n",
    "    'HCl': 36.46,\n",
    "    'CO2': 44.01\n",
    "}\n",
    "\n",
    "mw = mw_dict.get(reagent_formula, 40.0)\n",
    "dose_mg_L = dose_mmol * mw\n",
    "\n",
    "print(f\"\\nPractical Dose:     {dose_mg_L:.1f} mg/L as {reagent_formula}\")"
   ]
  },
  {
   "cell_type": "markdown",
   "metadata": {},
   "source": [
    "## 8. VERIFICATION CALCULATIONS"
   ]
  },
  {
   "cell_type": "code",
   "execution_count": null,
   "metadata": {},
   "outputs": [],
   "source": [
    "# Display final water quality\n",
    "final_water = dosing_results.get('final_solution', {})\n",
    "\n",
    "# Create comparison table\n",
    "comparison_data = [\n",
    "    {\n",
    "        'Parameter': 'pH',\n",
    "        'Initial': input_water.get('pH', '-'),\n",
    "        'Target': target_condition.get('value', '-'),\n",
    "        'Final': final_water.get('pH', '-'),\n",
    "        'Status': '✓' if abs(final_water.get('pH', 0) - target_condition.get('value', 0)) < 0.1 else '✗'\n",
    "    },\n",
    "    {\n",
    "        'Parameter': 'Ionic Strength',\n",
    "        'Initial': f\"{solution_summary.get('ionic_strength', 0):.4f}\",\n",
    "        'Target': '-',\n",
    "        'Final': f\"{final_water.get('ionic_strength', 0):.4f}\",\n",
    "        'Status': '-'\n",
    "    },\n",
    "    {\n",
    "        'Parameter': 'TDS (mg/L)',\n",
    "        'Initial': f\"{solution_summary.get('TDS', 0):.0f}\",\n",
    "        'Target': '-',\n",
    "        'Final': f\"{final_water.get('TDS', 0):.0f}\",\n",
    "        'Status': '-'\n",
    "    }\n",
    "]\n",
    "\n",
    "comp_df = pd.DataFrame(comparison_data)\n",
    "display(HTML(\"<b>Table 2: pH Adjustment Verification</b>\"))\n",
    "display(comp_df.style.hide(axis='index'))\n",
    "\n",
    "# Check for precipitation\n",
    "if 'saturation_indices' in final_water:\n",
    "    si_data = final_water['saturation_indices']\n",
    "    precipitating = [(mineral, si) for mineral, si in si_data.items() if si > 0]\n",
    "    if precipitating:\n",
    "        print(\"\\n⚠️ WARNING: Potential precipitation detected:\")\n",
    "        for mineral, si in precipitating:\n",
    "            print(f\"  - {mineral}: SI = {si:.2f}\")"
   ]
  },
  {
   "cell_type": "markdown",
   "metadata": {},
   "source": [
    "## 9. CHEMICAL FEED SYSTEM DESIGN"
   ]
  },
  {
   "cell_type": "code",
   "execution_count": null,
   "metadata": {},
   "outputs": [],
   "source": [
    "# Design calculations\n",
    "flow_rate = calculation_data.get('design_params', {}).get('flow_rate', 100)  # m³/h\n",
    "dose_kg_h = dose_mg_L * flow_rate / 1000\n",
    "daily_usage = dose_kg_h * 24\n",
    "\n",
    "# Storage requirements (30-day supply)\n",
    "monthly_usage = daily_usage * 30\n",
    "\n",
    "# Solution strength recommendations\n",
    "solution_strength = {\n",
    "    'NaOH': 25,  # % w/w\n",
    "    'H2SO4': 93,  # % w/w  \n",
    "    'HCl': 32,   # % w/w\n",
    "    'Ca(OH)2': 5,  # % slurry\n",
    "    'Na2CO3': 15,  # % w/w\n",
    "}\n",
    "\n",
    "strength = solution_strength.get(reagent_formula, 10)\n",
    "solution_flow = dose_kg_h / (strength / 100)  # L/h of solution\n",
    "\n",
    "design_box = f\"\"\"\n",
    "<div style=\"border: 2px solid black; padding: 15px; margin: 20px 0; background-color: #f5f5f5;\">\n",
    "<h3 style=\"margin-top: 0;\">CHEMICAL FEED SYSTEM DESIGN</h3>\n",
    "<table style=\"width: 100%; border-collapse: collapse;\">\n",
    "<tr><td style=\"padding: 5px;\"><b>Design Flow Rate:</b></td><td style=\"text-align: right;\">{flow_rate} m³/h</td></tr>\n",
    "<tr><td style=\"padding: 5px;\"><b>Chemical Dose:</b></td><td style=\"text-align: right;\">{dose_mg_L:.1f} mg/L as {reagent_formula}</td></tr>\n",
    "<tr><td style=\"padding: 5px;\"><b>Feed Rate (neat):</b></td><td style=\"text-align: right;\">{dose_kg_h:.2f} kg/h</td></tr>\n",
    "<tr><td style=\"padding: 5px;\"><b>Daily Usage:</b></td><td style=\"text-align: right;\">{daily_usage:.0f} kg/day</td></tr>\n",
    "<tr><td style=\"padding: 5px;\"><b>Solution Strength:</b></td><td style=\"text-align: right;\">{strength}% w/w</td></tr>\n",
    "<tr><td style=\"padding: 5px;\"><b>Solution Feed Rate:</b></td><td style=\"text-align: right;\">{solution_flow:.1f} L/h</td></tr>\n",
    "<tr><td style=\"padding: 5px;\"><b>Storage (30 days):</b></td><td style=\"text-align: right;\">{monthly_usage:.0f} kg</td></tr>\n",
    "</table>\n",
    "</div>\n",
    "\"\"\"\n",
    "display(HTML(design_box))"
   ]
  },
  {
   "cell_type": "markdown",
   "metadata": {},
   "source": [
    "## 10. pH CONTROL STRATEGY"
   ]
  },
  {
   "cell_type": "code",
   "execution_count": null,
   "metadata": {},
   "outputs": [],
   "source": [
    "# Generate pH titration curve if available\n",
    "titration_data = calculation_data.get('titration_curve', [])\n",
    "\n",
    "if titration_data:\n",
    "    doses = [point['dose'] for point in titration_data]\n",
    "    pHs = [point['pH'] for point in titration_data]\n",
    "    \n",
    "    plt.figure(figsize=(10, 6))\n",
    "    plt.plot(doses, pHs, 'b-', linewidth=2)\n",
    "    plt.axhline(y=target_condition.get('value', 7), color='r', linestyle='--', label='Target pH')\n",
    "    plt.axvline(x=dose_mmol, color='g', linestyle='--', label='Selected Dose')\n",
    "    plt.xlabel(f'{reagent_formula} Dose (mmol/L)')\n",
    "    plt.ylabel('pH')\n",
    "    plt.title('pH Titration Curve')\n",
    "    plt.grid(True, alpha=0.3)\n",
    "    plt.legend()\n",
    "    plt.tight_layout()\n",
    "    plt.show()\n",
    "else:\n",
    "    print(\"Titration curve data not available\")\n",
    "\n",
    "# Control recommendations\n",
    "print(\"\\n=== pH Control Recommendations ===\")\n",
    "print(f\"1. Primary Control: Feedback control with pH analyzer\")\n",
    "print(f\"2. Control Range: {target_condition.get('value', 7)} ± 0.2 pH units\")\n",
    "print(f\"3. Response Time: < 5 minutes\")\n",
    "print(f\"4. Mixing: Ensure complete mixing at injection point\")\n",
    "if buffer_category in ['Very Low', 'Low']:\n",
    "    print(f\"5. Special Consideration: Low buffering - use cascade or feedforward control\")"
   ]
  },
  {
   "cell_type": "markdown",
   "metadata": {},
   "source": [
    "## 11. SAFETY CONSIDERATIONS\n",
    "\n",
    "### Chemical Hazards\n",
    "- **Storage**: Comply with chemical compatibility requirements\n",
    "- **Secondary Containment**: 110% of largest tank volume\n",
    "- **Personal Protection**: Appropriate PPE for chemical handling\n",
    "- **Emergency Response**: Eye wash and safety shower stations\n",
    "\n",
    "### Process Safety\n",
    "- **Overfeed Protection**: High/low pH alarms and interlocks\n",
    "- **Mixing**: Prevent localized high concentrations\n",
    "- **Backup Systems**: Redundant pumps and controls"
   ]
  },
  {
   "cell_type": "markdown",
   "metadata": {},
   "source": [
    "## 12. CONCLUSIONS\n",
    "\n",
    "1. The required chemical dose is **{{dose}} mg/L of {{chemical}}** to achieve pH {{target_pH}}\n",
    "2. The water has **{{buffer_category}}** buffering capacity requiring {{control_assessment}}\n",
    "3. Chemical consumption will be **{{daily_usage}} kg/day** at design flow\n",
    "4. No significant precipitation is expected at the target pH\n",
    "\n",
    "## 13. RECOMMENDATIONS\n",
    "\n",
    "1. **Chemical Selection**: {{chemical}} is appropriate for this application\n",
    "2. **Feed System**: Metering pump capacity of {{pump_capacity}} L/h with 100% standby\n",
    "3. **Control System**: Implement feedback pH control with ±0.2 pH deadband\n",
    "4. **Monitoring**: Continuous pH monitoring with daily calibration\n",
    "5. **Storage**: Provide {{storage_volume}} L storage capacity for 30-day supply"
   ]
  },
  {
   "cell_type": "markdown",
   "metadata": {},
   "source": [
    "## APPENDIX A: DETAILED SPECIATION RESULTS"
   ]
  },
  {
   "cell_type": "code",
   "execution_count": null,
   "metadata": {},
   "outputs": [],
   "source": [
    "# Display detailed speciation if available\n",
    "if 'species_distribution' in speciation_results:\n",
    "    species = speciation_results['species_distribution']\n",
    "    # Show top species by concentration\n",
    "    sorted_species = sorted(species.items(), key=lambda x: x[1], reverse=True)[:10]\n",
    "    \n",
    "    species_data = []\n",
    "    for species_name, conc in sorted_species:\n",
    "        species_data.append({\n",
    "            'Species': species_name,\n",
    "            'Concentration': f\"{conc:.3e}\",\n",
    "            'Unit': 'mol/L'\n",
    "        })\n",
    "    \n",
    "    species_df = pd.DataFrame(species_data)\n",
    "    display(HTML(\"<b>Table A1: Major Species in Solution</b>\"))\n",
    "    display(species_df.style.hide(axis='index'))"
   ]
  },
  {
   "cell_type": "markdown",
   "metadata": {},
   "source": [
    "---\n",
    "*End of Calculation Sheet*"
   ]
  }
 ],
 "metadata": {
  "kernelspec": {
   "display_name": "Python 3",
   "language": "python",
   "name": "python3"
  },
  "language_info": {
   "codemirror_mode": {
    "name": "ipython",
    "version": 3
   },
   "file_extension": ".py",
   "mimetype": "text/x-python",
   "name": "python",
   "nbconvert_exporter": "python",
   "pygments_lexer": "ipython3",
   "version": "3.8.0"
  }
 },
 "nbformat": 4,
 "nbformat_minor": 4
}